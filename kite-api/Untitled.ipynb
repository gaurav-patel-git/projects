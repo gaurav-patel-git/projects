{
 "cells": [
  {
   "cell_type": "code",
   "execution_count": 1,
   "metadata": {},
   "outputs": [
    {
     "name": "stdout",
     "output_type": "stream",
     "text": [
      "Average of the last 20 values is 211.315\n",
      "Average of the last 20 values is 211.315\n",
      "Average of the last 20 values is 211.315\n",
      "Average of the last 20 values is 211.315\n"
     ]
    },
    {
     "ename": "KeyboardInterrupt",
     "evalue": "",
     "output_type": "error",
     "traceback": [
      "\u001b[1;31m---------------------------------------------------------------------------\u001b[0m",
      "\u001b[1;31mKeyboardInterrupt\u001b[0m                         Traceback (most recent call last)",
      "\u001b[1;32m<ipython-input-1-8f6a3f8b8bd3>\u001b[0m in \u001b[0;36m<module>\u001b[1;34m\u001b[0m\n\u001b[0;32m     20\u001b[0m     \u001b[0maverage_value\u001b[0m \u001b[1;33m=\u001b[0m \u001b[0mspecified_last_value\u001b[0m\u001b[1;33m.\u001b[0m\u001b[0mmean\u001b[0m\u001b[1;33m(\u001b[0m\u001b[1;33m)\u001b[0m\u001b[1;33m\u001b[0m\u001b[1;33m\u001b[0m\u001b[0m\n\u001b[0;32m     21\u001b[0m     \u001b[0mprint\u001b[0m\u001b[1;33m(\u001b[0m\u001b[1;34mf'Average of the last {num_values} values is {average_value}'\u001b[0m\u001b[1;33m)\u001b[0m\u001b[1;33m\u001b[0m\u001b[1;33m\u001b[0m\u001b[0m\n\u001b[1;32m---> 22\u001b[1;33m     \u001b[0mtime\u001b[0m\u001b[1;33m.\u001b[0m\u001b[0msleep\u001b[0m\u001b[1;33m(\u001b[0m\u001b[1;36m2\u001b[0m\u001b[1;33m)\u001b[0m\u001b[1;33m\u001b[0m\u001b[1;33m\u001b[0m\u001b[0m\n\u001b[0m",
      "\u001b[1;31mKeyboardInterrupt\u001b[0m: "
     ]
    }
   ],
   "source": [
    "import pandas as pd\n",
    "import time\n",
    "import os\n",
    "\n",
    "# set traing time 1min, 2min, 5min, day.....\n",
    "trading_time = \"1min\"\n",
    "print(f'The trading time is {trading_time}')\n",
    "# set the type as high or low whatever you want\n",
    "value_type = \"high\"\n",
    "\n",
    "# set the number of last values you want average to be\n",
    "num_values = 20\n",
    "\n",
    "last_avg = None\n",
    "\n",
    "while True:\n",
    "    os.system('cls')\n",
    "    data = pd.read_csv('stockl.csv', parse_dates=True, names=['last_price', 'date'], index_col='date')\n",
    "    data = pd.DataFrame(data)\n",
    "    candle = data.resample(trading_time).ohlc().dropna()\n",
    "    specified_last_value = candle['last_price'][value_type].tail(num_values)\n",
    "    cur_avg_value = specified_last_value.mean()\n",
    "    print(f'Average of the last {num_values} values {value_type} is {cur_avg_value}')\n",
    "    if last_avg:\n",
    "        if last_avg < cur_ave_value:\n",
    "            \n",
    "    last_avg = average_value    \n",
    "    time.sleep(2)\n",
    "    "
   ]
  },
  {
   "cell_type": "code",
   "execution_count": null,
   "metadata": {},
   "outputs": [],
   "source": [
    "data = pd.read_csv('stockl.csv', parse_dates=True, names=['last_price', 'date'], index_col='date')\n",
    "data"
   ]
  },
  {
   "cell_type": "code",
   "execution_count": null,
   "metadata": {},
   "outputs": [],
   "source": [
    "data = pd.DataFrame(data)\n",
    "candle = data.resample('1min').ohlc().dropna()\n",
    "candle['last_price']"
   ]
  },
  {
   "cell_type": "code",
   "execution_count": null,
   "metadata": {},
   "outputs": [],
   "source": [
    "candle['last_price']['high'].tail(20)"
   ]
  },
  {
   "cell_type": "code",
   "execution_count": null,
   "metadata": {},
   "outputs": [],
   "source": []
  }
 ],
 "metadata": {
  "kernelspec": {
   "display_name": "Python 3",
   "language": "python",
   "name": "python3"
  },
  "language_info": {
   "codemirror_mode": {
    "name": "ipython",
    "version": 3
   },
   "file_extension": ".py",
   "mimetype": "text/x-python",
   "name": "python",
   "nbconvert_exporter": "python",
   "pygments_lexer": "ipython3",
   "version": "3.7.3"
  }
 },
 "nbformat": 4,
 "nbformat_minor": 4
}
