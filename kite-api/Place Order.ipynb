{
 "cells": [
  {
   "cell_type": "code",
   "execution_count": 3,
   "metadata": {
    "scrolled": true
   },
   "outputs": [
    {
     "name": "stderr",
     "output_type": "stream",
     "text": [
      "DEBUG:urllib3.connectionpool:Starting new HTTPS connection (1): api.kite.trade:443\n",
      "DEBUG:urllib3.connectionpool:https://api.kite.trade:443 \"POST /session/token HTTP/1.1\" 403 None\n"
     ]
    },
    {
     "ename": "TokenException",
     "evalue": "Token is invalid or has expired.",
     "output_type": "error",
     "traceback": [
      "\u001b[1;31m---------------------------------------------------------------------------\u001b[0m",
      "\u001b[1;31mTokenException\u001b[0m                            Traceback (most recent call last)",
      "\u001b[1;32m<ipython-input-3-98f967902d4e>\u001b[0m in \u001b[0;36m<module>\u001b[1;34m\u001b[0m\n\u001b[0;32m     12\u001b[0m \u001b[1;31m# as follows.\u001b[0m\u001b[1;33m\u001b[0m\u001b[1;33m\u001b[0m\u001b[1;33m\u001b[0m\u001b[0m\n\u001b[0;32m     13\u001b[0m \u001b[1;33m\u001b[0m\u001b[0m\n\u001b[1;32m---> 14\u001b[1;33m \u001b[0mdata\u001b[0m \u001b[1;33m=\u001b[0m \u001b[0mkite\u001b[0m\u001b[1;33m.\u001b[0m\u001b[0mgenerate_session\u001b[0m\u001b[1;33m(\u001b[0m\u001b[1;34m\"request_token_here\"\u001b[0m\u001b[1;33m,\u001b[0m \u001b[0mapi_secret\u001b[0m\u001b[1;33m=\u001b[0m\u001b[1;34m\"your_secret\"\u001b[0m\u001b[1;33m)\u001b[0m\u001b[1;33m\u001b[0m\u001b[1;33m\u001b[0m\u001b[0m\n\u001b[0m\u001b[0;32m     15\u001b[0m \u001b[0mkite\u001b[0m\u001b[1;33m.\u001b[0m\u001b[0mset_access_token\u001b[0m\u001b[1;33m(\u001b[0m\u001b[0mdata\u001b[0m\u001b[1;33m[\u001b[0m\u001b[1;34m\"access_token\"\u001b[0m\u001b[1;33m]\u001b[0m\u001b[1;33m)\u001b[0m\u001b[1;33m\u001b[0m\u001b[1;33m\u001b[0m\u001b[0m\n\u001b[0;32m     16\u001b[0m \u001b[1;33m\u001b[0m\u001b[0m\n",
      "\u001b[1;32mc:\\users\\gp896\\appdata\\local\\programs\\python\\python37-32\\lib\\site-packages\\kiteconnect\\connect.py\u001b[0m in \u001b[0;36mgenerate_session\u001b[1;34m(self, request_token, api_secret)\u001b[0m\n\u001b[0;32m    250\u001b[0m             \u001b[1;34m\"api_key\"\u001b[0m\u001b[1;33m:\u001b[0m \u001b[0mself\u001b[0m\u001b[1;33m.\u001b[0m\u001b[0mapi_key\u001b[0m\u001b[1;33m,\u001b[0m\u001b[1;33m\u001b[0m\u001b[1;33m\u001b[0m\u001b[0m\n\u001b[0;32m    251\u001b[0m             \u001b[1;34m\"request_token\"\u001b[0m\u001b[1;33m:\u001b[0m \u001b[0mrequest_token\u001b[0m\u001b[1;33m,\u001b[0m\u001b[1;33m\u001b[0m\u001b[1;33m\u001b[0m\u001b[0m\n\u001b[1;32m--> 252\u001b[1;33m             \u001b[1;34m\"checksum\"\u001b[0m\u001b[1;33m:\u001b[0m \u001b[0mchecksum\u001b[0m\u001b[1;33m\u001b[0m\u001b[1;33m\u001b[0m\u001b[0m\n\u001b[0m\u001b[0;32m    253\u001b[0m         })\n\u001b[0;32m    254\u001b[0m \u001b[1;33m\u001b[0m\u001b[0m\n",
      "\u001b[1;32mc:\\users\\gp896\\appdata\\local\\programs\\python\\python37-32\\lib\\site-packages\\kiteconnect\\connect.py\u001b[0m in \u001b[0;36m_post\u001b[1;34m(self, route, params)\u001b[0m\n\u001b[0;32m    819\u001b[0m     \u001b[1;32mdef\u001b[0m \u001b[0m_post\u001b[0m\u001b[1;33m(\u001b[0m\u001b[0mself\u001b[0m\u001b[1;33m,\u001b[0m \u001b[0mroute\u001b[0m\u001b[1;33m,\u001b[0m \u001b[0mparams\u001b[0m\u001b[1;33m=\u001b[0m\u001b[1;32mNone\u001b[0m\u001b[1;33m)\u001b[0m\u001b[1;33m:\u001b[0m\u001b[1;33m\u001b[0m\u001b[1;33m\u001b[0m\u001b[0m\n\u001b[0;32m    820\u001b[0m         \u001b[1;34m\"\"\"Alias for sending a POST request.\"\"\"\u001b[0m\u001b[1;33m\u001b[0m\u001b[1;33m\u001b[0m\u001b[0m\n\u001b[1;32m--> 821\u001b[1;33m         \u001b[1;32mreturn\u001b[0m \u001b[0mself\u001b[0m\u001b[1;33m.\u001b[0m\u001b[0m_request\u001b[0m\u001b[1;33m(\u001b[0m\u001b[0mroute\u001b[0m\u001b[1;33m,\u001b[0m \u001b[1;34m\"POST\"\u001b[0m\u001b[1;33m,\u001b[0m \u001b[0mparams\u001b[0m\u001b[1;33m)\u001b[0m\u001b[1;33m\u001b[0m\u001b[1;33m\u001b[0m\u001b[0m\n\u001b[0m\u001b[0;32m    822\u001b[0m \u001b[1;33m\u001b[0m\u001b[0m\n\u001b[0;32m    823\u001b[0m     \u001b[1;32mdef\u001b[0m \u001b[0m_put\u001b[0m\u001b[1;33m(\u001b[0m\u001b[0mself\u001b[0m\u001b[1;33m,\u001b[0m \u001b[0mroute\u001b[0m\u001b[1;33m,\u001b[0m \u001b[0mparams\u001b[0m\u001b[1;33m=\u001b[0m\u001b[1;32mNone\u001b[0m\u001b[1;33m)\u001b[0m\u001b[1;33m:\u001b[0m\u001b[1;33m\u001b[0m\u001b[1;33m\u001b[0m\u001b[0m\n",
      "\u001b[1;32mc:\\users\\gp896\\appdata\\local\\programs\\python\\python37-32\\lib\\site-packages\\kiteconnect\\connect.py\u001b[0m in \u001b[0;36m_request\u001b[1;34m(self, route, method, parameters)\u001b[0m\n\u001b[0;32m    884\u001b[0m                 \u001b[1;31m# native Kite errors\u001b[0m\u001b[1;33m\u001b[0m\u001b[1;33m\u001b[0m\u001b[1;33m\u001b[0m\u001b[0m\n\u001b[0;32m    885\u001b[0m                 \u001b[0mexp\u001b[0m \u001b[1;33m=\u001b[0m \u001b[0mgetattr\u001b[0m\u001b[1;33m(\u001b[0m\u001b[0mex\u001b[0m\u001b[1;33m,\u001b[0m \u001b[0mdata\u001b[0m\u001b[1;33m[\u001b[0m\u001b[1;34m\"error_type\"\u001b[0m\u001b[1;33m]\u001b[0m\u001b[1;33m,\u001b[0m \u001b[0mex\u001b[0m\u001b[1;33m.\u001b[0m\u001b[0mGeneralException\u001b[0m\u001b[1;33m)\u001b[0m\u001b[1;33m\u001b[0m\u001b[1;33m\u001b[0m\u001b[0m\n\u001b[1;32m--> 886\u001b[1;33m                 \u001b[1;32mraise\u001b[0m \u001b[0mexp\u001b[0m\u001b[1;33m(\u001b[0m\u001b[0mdata\u001b[0m\u001b[1;33m[\u001b[0m\u001b[1;34m\"message\"\u001b[0m\u001b[1;33m]\u001b[0m\u001b[1;33m,\u001b[0m \u001b[0mcode\u001b[0m\u001b[1;33m=\u001b[0m\u001b[0mr\u001b[0m\u001b[1;33m.\u001b[0m\u001b[0mstatus_code\u001b[0m\u001b[1;33m)\u001b[0m\u001b[1;33m\u001b[0m\u001b[1;33m\u001b[0m\u001b[0m\n\u001b[0m\u001b[0;32m    887\u001b[0m \u001b[1;33m\u001b[0m\u001b[0m\n\u001b[0;32m    888\u001b[0m             \u001b[1;32mreturn\u001b[0m \u001b[0mdata\u001b[0m\u001b[1;33m[\u001b[0m\u001b[1;34m\"data\"\u001b[0m\u001b[1;33m]\u001b[0m\u001b[1;33m\u001b[0m\u001b[1;33m\u001b[0m\u001b[0m\n",
      "\u001b[1;31mTokenException\u001b[0m: Token is invalid or has expired."
     ]
    }
   ],
   "source": [
    "import logging\n",
    "from kiteconnect import KiteConnect\n",
    "\n",
    "logging.basicConfig(level=logging.DEBUG)\n",
    "\n",
    "kite = KiteConnect(api_key=\"your_api_key\")\n",
    "\n",
    "# Redirect the user to the login url obtained\n",
    "# from kite.login_url(), and receive the request_token\n",
    "# from the registered redirect url after the login flow.\n",
    "# Once you have the request_token, obtain the access_token\n",
    "# as follows.\n",
    "\n",
    "data = kite.generate_session(\"request_token_here\", api_secret=\"your_secret\")\n",
    "kite.set_access_token(data[\"access_token\"])\n",
    "\n",
    "\n",
    "# Trading Symbol\n",
    "symbol = \"INFY\"\n",
    "\n",
    "# EXCHANGE_BFO, EXCHANGE_BSE, EXCHANGE_CDS,, EXCHANGE_NFO, KITE.EXCHANGE_NSE, EXCHANGE_MCX\n",
    "exchange = kite.EXCHANGE_NSE\n",
    "\n",
    "# TRANSACTION_TYPE_BUY, TRANSACTION_TYPE_SELL\n",
    "transaction_type = kite.TRANSACTION_TYPE_BUY\n",
    "\n",
    "# Specify the quantity of stock you want to buy\n",
    "quantity = 1\n",
    "\n",
    "# ORDER_TYPE_MARKET, ORDER_TYPE_LIMIT\n",
    "order_type = kite.ORDER_TYPE_MARKET\n",
    "\n",
    "# PRODUCT_BO, PRODUCT_CNC, PRODUCT_CO,PRODUCT_MIS, PRODUCT_NRML\n",
    "product = kite.PRODUCT_NRML\n",
    "\n",
    "# Place an order\n",
    "try:\n",
    "    order_id = kite.place_order(tradingsymbol=symbol,\n",
    "                                exchange=exchange,\n",
    "                                transaction_type=transaction_type,\n",
    "                                quantity=quantity,\n",
    "                                order_type=kite.order_type,\n",
    "                                product=product)\n",
    "\n",
    "    logging.info(\"Order placed. ID is: {}\".format(order_id))\n",
    "except Exception as e:\n",
    "    logging.info(\"Order placement failed: {}\".format(e.message))\n",
    "\n",
    "# Fetch all orders\n",
    "if __name__=='__main__':\n",
    "    all_orders = kite.orders()\n",
    "    print(all_orders)\n"
   ]
  },
  {
   "cell_type": "code",
   "execution_count": null,
   "metadata": {},
   "outputs": [],
   "source": []
  }
 ],
 "metadata": {
  "kernelspec": {
   "display_name": "Python 3",
   "language": "python",
   "name": "python3"
  },
  "language_info": {
   "codemirror_mode": {
    "name": "ipython",
    "version": 3
   },
   "file_extension": ".py",
   "mimetype": "text/x-python",
   "name": "python",
   "nbconvert_exporter": "python",
   "pygments_lexer": "ipython3",
   "version": "3.7.3"
  }
 },
 "nbformat": 4,
 "nbformat_minor": 4
}
